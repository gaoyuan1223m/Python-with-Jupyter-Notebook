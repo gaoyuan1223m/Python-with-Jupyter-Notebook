{
 "cells": [
  {
   "cell_type": "code",
   "execution_count": 45,
   "metadata": {},
   "outputs": [],
   "source": [
    "import pandas as pd\n",
    "import numpy as np\n",
    "from pandas import Series, DataFrame"
   ]
  },
  {
   "cell_type": "code",
   "execution_count": 29,
   "metadata": {},
   "outputs": [
    {
     "name": "stdout",
     "output_type": "stream",
     "text": "[4 2 5 3]\nIndex(['a', 'b', 'c', 'd'], dtype='object')\na    4\nb    2\nc    5\nd    3\ndtype: int64\n"
    }
   ],
   "source": [
    "obj1 = Series([4, 2, 5, 3], index=['a','b','c','d'])\n",
    "\n",
    "print(obj1.values)\n",
    "print(obj1.index)\n",
    "print(obj1)"
   ]
  },
  {
   "cell_type": "code",
   "execution_count": 30,
   "metadata": {},
   "outputs": [
    {
     "data": {
      "text/html": "<div>\n<style scoped>\n    .dataframe tbody tr th:only-of-type {\n        vertical-align: middle;\n    }\n\n    .dataframe tbody tr th {\n        vertical-align: top;\n    }\n\n    .dataframe thead th {\n        text-align: right;\n    }\n</style>\n<table border=\"1\" class=\"dataframe\">\n  <thead>\n    <tr style=\"text-align: right;\">\n      <th></th>\n      <th>year</th>\n      <th>state</th>\n      <th>pop</th>\n      <th>debt</th>\n      <th>rich</th>\n    </tr>\n  </thead>\n  <tbody>\n    <tr>\n      <th>Ryan</th>\n      <td>2000</td>\n      <td>Ohio</td>\n      <td>1.5</td>\n      <td>0.5</td>\n      <td>False</td>\n    </tr>\n    <tr>\n      <th>Peter</th>\n      <td>2001</td>\n      <td>Ohio</td>\n      <td>1.7</td>\n      <td>NaN</td>\n      <td>False</td>\n    </tr>\n    <tr>\n      <th>Rob23</th>\n      <td>2002</td>\n      <td>Ohio</td>\n      <td>3.6</td>\n      <td>1.3</td>\n      <td>True</td>\n    </tr>\n    <tr>\n      <th>Steve</th>\n      <td>2001</td>\n      <td>Nevada</td>\n      <td>2.4</td>\n      <td>NaN</td>\n      <td>False</td>\n    </tr>\n    <tr>\n      <th>Kaven</th>\n      <td>2002</td>\n      <td>Nevada</td>\n      <td>2.9</td>\n      <td>2.1</td>\n      <td>True</td>\n    </tr>\n  </tbody>\n</table>\n</div>",
      "text/plain": "       year   state  pop  debt   rich\nRyan   2000    Ohio  1.5   0.5  False\nPeter  2001    Ohio  1.7   NaN  False\nRob23  2002    Ohio  3.6   1.3   True\nSteve  2001  Nevada  2.4   NaN  False\nKaven  2002  Nevada  2.9   2.1   True"
     },
     "execution_count": 30,
     "metadata": {},
     "output_type": "execute_result"
    }
   ],
   "source": [
    "data = {'state': ['Ohio', 'Ohio', 'Ohio', 'Nevada', 'Nevada'],\n",
    "        'year': [2000, 2001, 2002, 2001, 2002],\n",
    "        'pop': [1.5, 1.7, 3.6, 2.4, 2.9]}\n",
    "frame = DataFrame(data, \n",
    "        columns=[\"year\", 'state', 'pop', 'debt'],\n",
    "        index=[\"Ryan\", \"Peter\", \"Rob23\", \"Steve\", \"Kaven\"])\n",
    "\n",
    "# frame[\"state\"] # 取‘state’列\n",
    "# frame.loc[\"Peter\"] # 取 ‘Peter’ 行\n",
    "frame['debt'] = Series([0.5, 1.3, 2.1], index=[\"Ryan\", \"Rob23\", \"Kaven\"]) # 为'列'赋值\n",
    "\n",
    "frame['rich'] = frame['pop'] > 2.5 # 为'列'赋值\n",
    "\n",
    "frame #frame.columns"
   ]
  },
  {
   "cell_type": "code",
   "execution_count": 31,
   "metadata": {},
   "outputs": [
    {
     "data": {
      "text/html": "<div>\n<style scoped>\n    .dataframe tbody tr th:only-of-type {\n        vertical-align: middle;\n    }\n\n    .dataframe tbody tr th {\n        vertical-align: top;\n    }\n\n    .dataframe thead th {\n        text-align: right;\n    }\n</style>\n<table border=\"1\" class=\"dataframe\">\n  <thead>\n    <tr style=\"text-align: right;\">\n      <th></th>\n      <th>2000</th>\n      <th>2001</th>\n      <th>2002</th>\n    </tr>\n  </thead>\n  <tbody>\n    <tr>\n      <th>Nevada</th>\n      <td>NaN</td>\n      <td>2.4</td>\n      <td>2.9</td>\n    </tr>\n    <tr>\n      <th>Ohio</th>\n      <td>1.5</td>\n      <td>1.7</td>\n      <td>3.6</td>\n    </tr>\n  </tbody>\n</table>\n</div>",
      "text/plain": "        2000  2001  2002\nNevada   NaN   2.4   2.9\nOhio     1.5   1.7   3.6"
     },
     "execution_count": 31,
     "metadata": {},
     "output_type": "execute_result"
    }
   ],
   "source": [
    "dic = {\n",
    "    'Nevada': {\n",
    "        2001: 2.4, \n",
    "        2002: 2.9\n",
    "    },\n",
    "    'Ohio': {\n",
    "        2000: 1.5, \n",
    "        2001: 1.7, \n",
    "        2002: 3.6\n",
    "    }\n",
    "}\n",
    "\n",
    "date = [2000, 2001, 2002]\n",
    "f2 = DataFrame(dic, index=date);\n",
    "\n",
    "f2.T"
   ]
  },
  {
   "cell_type": "code",
   "execution_count": 42,
   "metadata": {},
   "outputs": [
    {
     "data": {
      "text/plain": "Index(['f', 'g', 'h'], dtype='object')"
     },
     "execution_count": 42,
     "metadata": {},
     "output_type": "execute_result"
    }
   ],
   "source": [
    "obj = Series(range(7), index=['a', 'b', 'c', 'e', 'f', 'g', 'h'])\n",
    "index = obj.index\n",
    "index # 切片\n",
    "#  ['a', 'b', 'c', 'e', 'f', 'g', 'h']\n",
    "# index[:3] # 只取前三个元素\n",
    "# index[:-3] # 除了后三个，其他元素都要\n",
    "# index[3:] # 除了前三个，其他元素都要\n",
    "# index[-3:] # 只去后三个元素"
   ]
  },
  {
   "cell_type": "code",
   "execution_count": 44,
   "metadata": {},
   "outputs": [
    {
     "data": {
      "text/plain": "Int64Index([0, 1, 2, 3, 4, 5, 6, 7], dtype='int64')"
     },
     "execution_count": 44,
     "metadata": {},
     "output_type": "execute_result"
    }
   ],
   "source": [
    "index1 = pd.Index(np.arange(8)) # int64\n",
    "\n",
    "index1"
   ]
  },
  {
   "cell_type": "code",
   "execution_count": 56,
   "metadata": {},
   "outputs": [
    {
     "data": {
      "text/html": "<div>\n<style scoped>\n    .dataframe tbody tr th:only-of-type {\n        vertical-align: middle;\n    }\n\n    .dataframe tbody tr th {\n        vertical-align: top;\n    }\n\n    .dataframe thead th {\n        text-align: right;\n    }\n</style>\n<table border=\"1\" class=\"dataframe\">\n  <thead>\n    <tr style=\"text-align: right;\">\n      <th></th>\n      <th></th>\n      <th>value1</th>\n      <th>value2</th>\n    </tr>\n    <tr>\n      <th>key1</th>\n      <th>key2</th>\n      <th></th>\n      <th></th>\n    </tr>\n  </thead>\n  <tbody>\n    <tr>\n      <th rowspan=\"4\" valign=\"top\">one</th>\n      <th>a</th>\n      <td>1</td>\n      <td>2</td>\n    </tr>\n    <tr>\n      <th>b</th>\n      <td>3</td>\n      <td>4</td>\n    </tr>\n    <tr>\n      <th>c</th>\n      <td>5</td>\n      <td>6</td>\n    </tr>\n    <tr>\n      <th>d</th>\n      <td>7</td>\n      <td>8</td>\n    </tr>\n    <tr>\n      <th rowspan=\"4\" valign=\"top\">two</th>\n      <th>a</th>\n      <td>9</td>\n      <td>10</td>\n    </tr>\n    <tr>\n      <th>b</th>\n      <td>11</td>\n      <td>12</td>\n    </tr>\n    <tr>\n      <th>c</th>\n      <td>13</td>\n      <td>14</td>\n    </tr>\n    <tr>\n      <th>d</th>\n      <td>15</td>\n      <td>16</td>\n    </tr>\n  </tbody>\n</table>\n</div>",
      "text/plain": "           value1  value2\nkey1 key2                \none  a          1       2\n     b          3       4\n     c          5       6\n     d          7       8\ntwo  a          9      10\n     b         11      12\n     c         13      14\n     d         15      16"
     },
     "execution_count": 56,
     "metadata": {},
     "output_type": "execute_result"
    }
   ],
   "source": [
    "# read txt\n",
    "d1 = pd.read_csv('./data/ex1.csv', index_col=['key1', 'key2'])\n",
    "\n",
    "d1"
   ]
  },
  {
   "cell_type": "code",
   "execution_count": 32,
   "metadata": {},
   "outputs": [
    {
     "data": {
      "text/html": "<div>\n<style scoped>\n    .dataframe tbody tr th:only-of-type {\n        vertical-align: middle;\n    }\n\n    .dataframe tbody tr th {\n        vertical-align: top;\n    }\n\n    .dataframe thead th {\n        text-align: right;\n    }\n</style>\n<table border=\"1\" class=\"dataframe\">\n  <thead>\n    <tr style=\"text-align: right;\">\n      <th></th>\n      <th>0</th>\n      <th>1</th>\n      <th>2</th>\n      <th>3</th>\n      <th>4</th>\n    </tr>\n  </thead>\n  <tbody>\n    <tr>\n      <th>0</th>\n      <td>5.002936</td>\n      <td>-0.294214</td>\n      <td>-4.083236</td>\n      <td>-0.427109</td>\n      <td>0.691148</td>\n    </tr>\n    <tr>\n      <th>1</th>\n      <td>-0.294214</td>\n      <td>2.234693</td>\n      <td>0.283918</td>\n      <td>0.221248</td>\n      <td>-0.512086</td>\n    </tr>\n    <tr>\n      <th>2</th>\n      <td>-4.083236</td>\n      <td>0.283918</td>\n      <td>10.407611</td>\n      <td>2.046740</td>\n      <td>0.175555</td>\n    </tr>\n    <tr>\n      <th>3</th>\n      <td>-0.427109</td>\n      <td>0.221248</td>\n      <td>2.046740</td>\n      <td>8.666792</td>\n      <td>0.107010</td>\n    </tr>\n    <tr>\n      <th>4</th>\n      <td>0.691148</td>\n      <td>-0.512086</td>\n      <td>0.175555</td>\n      <td>0.107010</td>\n      <td>0.911491</td>\n    </tr>\n  </tbody>\n</table>\n</div>",
      "text/plain": "          0         1          2         3         4\n0  5.002936 -0.294214  -4.083236 -0.427109  0.691148\n1 -0.294214  2.234693   0.283918  0.221248 -0.512086\n2 -4.083236  0.283918  10.407611  2.046740  0.175555\n3 -0.427109  0.221248   2.046740  8.666792  0.107010\n4  0.691148 -0.512086   0.175555  0.107010  0.911491"
     },
     "execution_count": 32,
     "metadata": {},
     "output_type": "execute_result"
    }
   ],
   "source": [
    "from numpy.linalg import inv, qr ## 矩阵运算\n",
    "\n",
    "X = np.random.randn(5,5)\n",
    "mat = X.T.dot(X) # X.T 代表 X转置\n",
    "\n",
    "DataFrame(mat)"
   ]
  },
  {
   "cell_type": "code",
   "execution_count": null,
   "metadata": {},
   "outputs": [],
   "source": []
  }
 ],
 "metadata": {
  "kernelspec": {
   "display_name": "Python 3",
   "language": "python",
   "name": "python3"
  },
  "language_info": {
   "codemirror_mode": {
    "name": "ipython",
    "version": 3
   },
   "file_extension": ".py",
   "mimetype": "text/x-python",
   "name": "python",
   "nbconvert_exporter": "python",
   "pygments_lexer": "ipython3",
   "version": "3.7.6-final"
  }
 },
 "nbformat": 4,
 "nbformat_minor": 2
}