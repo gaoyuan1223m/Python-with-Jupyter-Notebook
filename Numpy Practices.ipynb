{
 "cells": [
  {
   "cell_type": "code",
   "execution_count": 8,
   "metadata": {},
   "outputs": [],
   "source": [
    "import numpy as np\n",
    "import math"
   ]
  },
  {
   "cell_type": "code",
   "execution_count": 35,
   "metadata": {},
   "outputs": [
    {
     "name": "stdout",
     "output_type": "stream",
     "text": [
      "A+B = \n",
      " [[5 5 4]\n",
      " [4 5 5]]\n",
      "A-B = \n",
      " [[-3 -1  4]\n",
      " [ 4 -1 -3]]\n",
      "A*B = \n",
      " [[4 6 0]\n",
      " [0 6 4]]\n",
      "A*B = \n",
      " [[4 6 0]\n",
      " [0 6 4]]\n",
      "A*C = \n",
      " [[15]\n",
      " [18]]\n",
      "A*C = \n",
      " [[15]\n",
      " [18]]\n",
      "A*C = \n",
      " [[15]\n",
      " [18]]\n"
     ]
    }
   ],
   "source": [
    "A = np.array([[1,2,4],[4, 2, 1]])\n",
    "B = np.array([[4,3,0],[0, 3, 4]])\n",
    "C = np.array([[3],[2],[2]])\n",
    "print('A+B = \\n', np.add(A,B))\n",
    "print('A-B = \\n', np.subtract(A,B))\n",
    "print('A*B = \\n', np.multiply(A,B)) # 对应元素相乘\n",
    "print('A*B = \\n', A*B)              # 对应元素相乘\n",
    "print('A*C = \\n', np.dot(A,C))      # 矩阵相乘 注意matmul的区别\n",
    "print('A*C = \\n', A.dot(C))\n",
    "print('A*C = \\n', A@C)              # 矩阵相乘"
   ]
  },
  {
   "cell_type": "code",
   "execution_count": 26,
   "metadata": {},
   "outputs": [
    {
     "name": "stdout",
     "output_type": "stream",
     "text": [
      "[0.         1.         1.41421356 1.73205081 2.         2.23606798\n",
      " 2.44948974 2.64575131 2.82842712 3.        ]\n",
      "[0.         0.         0.41421356 0.73205081 0.         0.23606798\n",
      " 0.44948974 0.64575131 0.82842712 0.        ] [0. 1. 1. 1. 2. 2. 2. 2. 2. 3.]\n"
     ]
    }
   ],
   "source": [
    "arr = np.arange(10)\n",
    "arr_sqrt = np.sqrt(arr)\n",
    "[arr_mod_decimal, arr_mod_int] = np.modf(arr_sqrt)\n",
    "\n",
    "\n",
    "print(arr_sqrt)                     # 每个元素取平方根\n",
    "print(arr_mod_decimal,arr_mod_int)       # 将小数部分[0]和整数部分[1]分开"
   ]
  },
  {
   "cell_type": "code",
   "execution_count": 34,
   "metadata": {},
   "outputs": [
    {
     "name": "stdout",
     "output_type": "stream",
     "text": [
      "[[ 2.         -0.73462353  2.         -1.13642849  2.          2.\n",
      "   2.         -0.61519857]\n",
      " [ 2.         -0.3392453   2.          2.         -1.00828848  2.\n",
      "  -0.05140458 -1.16907813]\n",
      " [ 2.          2.         -0.65324398  2.          2.         -0.33532022\n",
      "  -0.44341776  2.        ]\n",
      " [ 2.         -1.35413115  2.         -1.81760452 -0.22653484 -0.95489554\n",
      "  -0.62435672  2.        ]\n",
      " [-1.05073886 -1.25163806 -1.37941117  2.          2.          2.\n",
      "  -0.20872961  2.        ]\n",
      " [ 2.          2.          2.          2.         -0.00692599  2.\n",
      "  -1.20564606  2.        ]\n",
      " [-1.94273706  2.         -1.54415317  2.          2.          2.\n",
      "   2.         -1.85214881]\n",
      " [ 2.         -0.61410827  2.          2.         -1.57464125 -2.11617517\n",
      "  -2.13522294 -0.09437905]]\n"
     ]
    }
   ],
   "source": [
    "arr_rand = np.random.randn(8, 8)\n",
    "print(np.where(arr_rand > 0, 2, arr_rand))"
   ]
  },
  {
   "cell_type": "code",
   "execution_count": 39,
   "metadata": {},
   "outputs": [
    {
     "data": {
      "text/plain": [
       "array([[ 1.00000000e+00, -5.91260775e-16,  2.58567023e-15,\n",
       "        -8.15710440e-16,  1.11045895e-15],\n",
       "       [ 8.77482142e-16,  1.00000000e+00,  4.98383229e-16,\n",
       "         5.79814563e-16, -1.76509329e-15],\n",
       "       [ 1.38131215e-17,  5.51803578e-16,  1.00000000e+00,\n",
       "         7.06102036e-16,  4.83218871e-16],\n",
       "       [ 9.82913406e-16, -1.14918666e-15,  7.20051750e-15,\n",
       "         1.00000000e+00, -4.08815199e-15],\n",
       "       [ 7.58005349e-16, -1.00664795e-15,  1.83597512e-15,\n",
       "         9.86924131e-16,  1.00000000e+00]])"
      ]
     },
     "execution_count": 39,
     "metadata": {},
     "output_type": "execute_result"
    }
   ],
   "source": [
    "from numpy.linalg import inv, qr ## 矩阵运算\n",
    "\n",
    "X = np.random.randn(5,5)\n",
    "mat = X.T.dot(X) # X.T 代表 X转置\n",
    "\n",
    "mat_inv = inv(mat)\n",
    "\n",
    "mat.dot(mat_inv)"
   ]
  },
  {
   "cell_type": "code",
   "execution_count": null,
   "metadata": {},
   "outputs": [],
   "source": []
  }
 ],
 "metadata": {
  "kernelspec": {
   "display_name": "Python 3",
   "language": "python",
   "name": "python3"
  },
  "language_info": {
   "codemirror_mode": {
    "name": "ipython",
    "version": 3
   },
   "file_extension": ".py",
   "mimetype": "text/x-python",
   "name": "python",
   "nbconvert_exporter": "python",
   "pygments_lexer": "ipython3",
   "version": "3.7.6"
  }
 },
 "nbformat": 4,
 "nbformat_minor": 2
}
